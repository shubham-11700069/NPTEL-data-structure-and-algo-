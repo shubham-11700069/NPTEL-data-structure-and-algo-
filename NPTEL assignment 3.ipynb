{
 "cells": [
  {
   "cell_type": "markdown",
   "metadata": {},
   "source": [
    "** 1. Define a Python function progression(l) that takes a nonempty list of integers l and returns True if the integers in l form an arithmetic progression: that is, l is of the form [a,a+d,a+2d,…,a+kd].\n",
    "**\n",
    ">>> progression([3])\n",
    "True\n",
    "\n",
    ">>> progression([7,3,-1,-5])\n",
    "True\n",
    "\n",
    ">>> progression([3,5,7,9,10])\n",
    "False\n",
    "\n",
    "** 2. Write a Python function squareprime(l) that takes a nonempty list of integers and returns True if the elements of l alternate between perfect squares and prime numbers, and returns False otherwise. Note that the alternating sequence of squares and primes may begin with a square or with a prime.\n",
    "**<br>\n",
    "Here are some examples to show how your function should work.\n",
    "\n",
    ">>> primesquare([4])\n",
    "True\n",
    "\n",
    ">>> primesquare([4,5,16,101,64])\n",
    "True\n",
    "\n",
    ">>> primesquare([5,16,101,36,27])\n",
    "False\n",
    "\n",
    "** 3. A two dimensional matrix can be represented in Python row-wise, as a list of lists: each inner list represents one row of the matrix. For instance, the matrix**\n",
    "\n",
    "1  2  3<br>\n",
    "4  5  6 <br>\n",
    "7  8  9<br>\n",
    "\n",
    "would be represented as [[1, 2, 3], [4, 5, 6], [7, 8, 9]].\n",
    "\n",
    "A horizonatal flip reflects each row. For instance, if we flip the previous matrix horizontally, we get\n",
    "\n",
    "3  2  1<br>\n",
    "6  5  4 <br>\n",
    "9  8  7<br>\n",
    "\n",
    "which would be represented as [[3, 2, 1], [6, 5, 4], [9, 8, 7]].\n",
    "\n",
    "A vertical flip reflects each column. For instance, if we flip the previous matrix that has already been flipped horizontally, we get\n",
    "\n",
    "9  8  7<br>\n",
    "6  5  4 <br>\n",
    "3  2  1<br>\n",
    "\n",
    "which would be represented as [[9, 8, 7], [6, 5, 4], [3, 2, 1]].\n",
    "\n",
    "Write a Python function matrixflip(m,d) that takes as input a two dimensional matrix m and a direction d, where d is either 'h' or 'v'. If d == 'h', the function should return the matrix flipped horizontally. If d == 'v', the function should retun the matrix flipped vertically. For any other value of d, the function should return m unchanged. In all cases, the argument m should remain undisturbed by the function.\n",
    "<br>\n",
    "Here are some examples to show how your function should work. You may assume that the input to the function is always a non-empty matrix.\n",
    "\n",
    ">>> myl = [[1,2],[3,4]]\n",
    "\n",
    ">>> myl\n",
    "[[1, 2], [3, 4]]  \n",
    "\n",
    ">>> matrixflip(myl,'h')\n",
    "[[2, 1], [4, 3]]\n",
    "\n",
    ">>> myl\n",
    "[[1, 2], [3, 4]]  \n",
    "\n",
    ">>> matrixflip(myl,'v')\n",
    "[[3, 4], [1, 2]]  \n",
    "\n",
    ">>> myl\n",
    "[[1, 2], [3, 4]]  \n",
    "\n"
   ]
  },
  {
   "cell_type": "code",
   "execution_count": null,
   "metadata": {},
   "outputs": [],
   "source": [
    "def progression(l):\n",
    "    if (len(l)<=2):\n",
    "        return True\n",
    "    d=l[1]-l[0]\n",
    "    for i in range(len(l)):\n",
    "        if (l[i] != l[0]+i*d):\n",
    "            return False\n",
    "    return True"
   ]
  },
  {
   "cell_type": "code",
   "execution_count": 134,
   "metadata": {
    "scrolled": true
   },
   "outputs": [],
   "source": [
    "import math\n",
    "def primesquare(l):\n",
    "    def isprime(n):\n",
    "        if (n<=1):\n",
    "            return False\n",
    "        if all(n%i!=0  for i in range(2,int(math.sqrt(n))+1)):\n",
    "            return True\n",
    "        else:\n",
    "            return False\n",
    "    def issquare(n):\n",
    "        if(n<=1):\n",
    "            return True\n",
    "        x = n // 2\n",
    "        seen = set([x])\n",
    "        while x * x != n:\n",
    "            x = (x + (n // x)) // 2\n",
    "            if x in seen:\n",
    "                return False\n",
    "            seen.add(x)\n",
    "            return True\n",
    "    result=True\n",
    "    if (len(l)<=2):\n",
    "        return True\n",
    "    if (isprime(l[0])):\n",
    "        for i in range(1,len(l)):\n",
    "            if (i%2 == 0 and isprime(l[i])==False):\n",
    "                result=False\n",
    "            if (i%2 !=0 and issquare(l[i])==False):\n",
    "                result=False\n",
    "    elif(issquare(l[0])):\n",
    "        for i in range(1,len(l)):\n",
    "            if (i%2 == 0 and issquare(l[i])==False):\n",
    "                result=False\n",
    "            if (i%2 !=0 and isprime(l[i])==False):\n",
    "                result=False\n",
    "    if(result==False):\n",
    "        return False\n",
    "    else:\n",
    "        return True\n",
    "\n",
    "    "
   ]
  },
  {
   "cell_type": "code",
   "execution_count": 113,
   "metadata": {},
   "outputs": [],
   "source": [
    "def matrixflip(m,d):\n",
    "    n=m\n",
    "    rowlngt=len(m)\n",
    "    collngt=len(m[0][:])\n",
    "    #print(rowlngt, collngt)\n",
    "    if(d=='h'):\n",
    "        for i in range(rowlngt):\n",
    "            n[i]=m[i][collngt::-1]\n",
    "        #print(temp)\n",
    "    elif(d=='v'):\n",
    "        for i in range(collngt//2):\n",
    "            n[i],m[rowlngt-1-i]=m[rowlngt-1-i],m[i]\n",
    "        #print('')\n",
    "    return n\n",
    "        "
   ]
  },
  {
   "cell_type": "code",
   "execution_count": 135,
   "metadata": {},
   "outputs": [
    {
     "data": {
      "text/plain": [
       "True"
      ]
     },
     "execution_count": 135,
     "metadata": {},
     "output_type": "execute_result"
    }
   ],
   "source": [
    "primesquare([0,5,16,101,64])"
   ]
  },
  {
   "cell_type": "code",
   "execution_count": null,
   "metadata": {},
   "outputs": [],
   "source": []
  }
 ],
 "metadata": {
  "kernelspec": {
   "display_name": "Python 3",
   "language": "python",
   "name": "python3"
  },
  "language_info": {
   "codemirror_mode": {
    "name": "ipython",
    "version": 3
   },
   "file_extension": ".py",
   "mimetype": "text/x-python",
   "name": "python",
   "nbconvert_exporter": "python",
   "pygments_lexer": "ipython3",
   "version": "3.6.4"
  }
 },
 "nbformat": 4,
 "nbformat_minor": 2
}
