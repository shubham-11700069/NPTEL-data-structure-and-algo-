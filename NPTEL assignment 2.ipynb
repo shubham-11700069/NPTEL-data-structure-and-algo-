{
 "cells": [
  {
   "cell_type": "markdown",
   "metadata": {},
   "source": [
    "**    1. A positive integer m can be partitioned as primes if it can be written as p + q where p > 0, q > 0 and both p and q are prime numbers.\n",
    "    Write a Python function primepartition(m) that takes an integer m as input and returns True if m can be partitioned as primes and False otherwise. (If m is not positive, your function should return False.)\n",
    "**<br>\n",
    "    Here are some examples of how your function should work.\n",
    "\n",
    "    >>> primepartition(7)\n",
    "    True\n",
    "\n",
    "    >>> primepartition(185)\n",
    "    False\n",
    "\n",
    "    >>> primepartition(3432)\n",
    "    True\n",
    "\n",
    "**    2. Write a function nestingdepth(s) that takes as input a string s and computes the maximum nesting depth of brackets if s has properly nested brackets. If the string is not properly matched, your function should return -1.\n",
    "**<br>\n",
    "    Hint: Use the function matched() from the practice assignment.\n",
    "<br>\n",
    "    Here are some examples to show how your function should work.\n",
    "\n",
    "     \n",
    "    >>> nestingdepth(\"zb%78\")\n",
    "    0\n",
    "\n",
    "    >>> nestingdepth(\"(7)(a\")\n",
    "    -1\n",
    "\n",
    "    >>> nestingdepth(\"a)*(?\")\n",
    "    -1\n",
    "\n",
    "    >>> nestingdepth(\"((jkl)78(A)&l(8(dd(FJI:),):)?)\")\n",
    "    4\n",
    "\n",
    "**    3.A list rotation consists of taking the first element and moving it to the end. For instance, if we rotate the list [1,2,3,4,5], we get [2,3,4,5,1]. If we rotate it again, we get [3,4,5,1,2].\n",
    "    Write a Python function rotatelist(l,k) that takes a list l and a positive integer k and returns the list l after k rotations. If k is not positive, your function should return l unchanged. Note that your function should not change l itself, and should return the rotated list.\n",
    "**<br>\n",
    "    Here are some examples to show how your function should work.\n",
    "\n",
    "    >>> rotatelist([1,2,3,4,5],1)\n",
    "    [2, 3, 4, 5, 1]\n",
    "\n",
    "    >>> rotatelist([1,2,3,4,5],3)\n",
    "    [4, 5, 1, 2, 3]\n",
    "\n",
    "    >>> rotatelist([1,2,3,4,5],12)\n",
    "    [3, 4, 5, 1, 2]\n",
    "\n"
   ]
  },
  {
   "cell_type": "code",
   "execution_count": null,
   "metadata": {},
   "outputs": [],
   "source": [
    "import math\n",
    "\n",
    "def primepartition(m):\n",
    "    def generate_n_primes(N):\n",
    "        primes  = []\n",
    "        for num in range(2,N):\n",
    "            if all(num%i!=0 for i in range(2,int(math.sqrt(num))+1)):\n",
    "                primes.append(num)\n",
    "        return primes\n",
    "    \n",
    "    if (m<0):\n",
    "        return False\n",
    "    primes=generate_n_primes(m)\n",
    "    #print(primes)\n",
    "    for i in range(len(primes)):\n",
    "        for j in range(len(primes)):\n",
    "            if (primes[i]+primes[-j]==m):\n",
    "                return True\n",
    "    return False    \n",
    "        \n",
    "print(primepartition(7))"
   ]
  },
  {
   "cell_type": "code",
   "execution_count": 54,
   "metadata": {},
   "outputs": [
    {
     "name": "stdout",
     "output_type": "stream",
     "text": [
      "4\n"
     ]
    }
   ],
   "source": [
    "def nestingdepth(s):\n",
    "    countOpenBraces=0\n",
    "    count=0\n",
    "    m=0\n",
    "    def depthcount(s,count,depth):\n",
    "        #print(depth)\n",
    "        if(s[0]=='('):\n",
    "            #print(\"started\")\n",
    "            count+=1\n",
    "        elif(s[0]==')'):\n",
    "            depth.append(count)\n",
    "            #print(\"appended\")\n",
    "            count-=1\n",
    "        if(len(s)==1):\n",
    "            #print(max(depth))\n",
    "            m=max(depth)\n",
    "            return(m)\n",
    "        return(depthcount(s[1:],count,depth))\n",
    "        \n",
    "            \n",
    "    for i in (s):\n",
    "        if (i==')' and countOpenBraces==0):\n",
    "            return (-1)            \n",
    "        if (i=='('):\n",
    "            countOpenBraces+=1\n",
    "    for j in (s):\n",
    "        if (j==')'):\n",
    "            countOpenBraces-=1\n",
    "            count+=1\n",
    "    if (countOpenBraces==0 and count==0):\n",
    "        return 0\n",
    "    elif (countOpenBraces==0 and count!=0):\n",
    "        return(depthcount(s,0,[]))     \n",
    "    else:\n",
    "        return (-1)\n",
    "print(nestingdepth(\"((jkl)78(A)&l(8(dd(FJI:),):)?)\"))"
   ]
  },
  {
   "cell_type": "code",
   "execution_count": 55,
   "metadata": {},
   "outputs": [
    {
     "name": "stdout",
     "output_type": "stream",
     "text": [
      "[3, 4, 5, 1, 2]\n"
     ]
    }
   ],
   "source": [
    "def rotatelist(li,noRot):\n",
    "    for i in range(noRot):\n",
    "        no=li.pop(0)\n",
    "        li.append(no)\n",
    "    return (li)\n",
    "print(rotatelist([1,2,3,4,5],12))"
   ]
  },
  {
   "cell_type": "code",
   "execution_count": null,
   "metadata": {},
   "outputs": [],
   "source": [
    "\n",
    "\n",
    "\n",
    "\n",
    "\n",
    "\n",
    "\n",
    "\n",
    "\n",
    "\n",
    "\n",
    "\n",
    "\n",
    "\n"
   ]
  }
 ],
 "metadata": {
  "kernelspec": {
   "display_name": "Python 3",
   "language": "python",
   "name": "python3"
  },
  "language_info": {
   "codemirror_mode": {
    "name": "ipython",
    "version": 3
   },
   "file_extension": ".py",
   "mimetype": "text/x-python",
   "name": "python",
   "nbconvert_exporter": "python",
   "pygments_lexer": "ipython3",
   "version": "3.6.4"
  }
 },
 "nbformat": 4,
 "nbformat_minor": 2
}
