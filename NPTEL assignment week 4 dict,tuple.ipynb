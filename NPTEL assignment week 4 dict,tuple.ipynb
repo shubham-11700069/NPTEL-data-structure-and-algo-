{
 "cells": [
  {
   "cell_type": "markdown",
   "metadata": {},
   "source": [
    "** 1. We have a list of annual rainfall recordings of cities. Each element in the list is of the form (c,r) where c is the city and r is the annual rainfall for a particular year. The list may have multiple entries for the same city, corresponding to rainfall recordings in different years.\n",
    "   Write a Python function rainaverage(l) that takes as input a list of rainfall recordings and computes the avarage rainfall for each city. The output should be a list of pairs (c,ar) where c is the city and ar is the average rainfall for this city among the recordings in the input list. Note that ar should be of type float. The output should be sorted in dictionary order with respect to the city name.\n",
    "**<br>\n",
    "    Here are some examples to show how rainaverage(l) should work.\n",
    "\n",
    "    >>> rainaverage([(1,2),(1,3),(2,3),(1,1),(3,8)])\n",
    "    [(1, 2.0), (2, 3.0), (3, 8.0)]\n",
    "\n",
    "    >>> rainaverage([('Bombay',848),('Madras',103),('Bombay',923),('Bangalore',201),('Madras',128)])\n",
    "    [('Bangalore', 201.0), ('Bombay', 885.5), ('Madras', 115.5)]\n",
    "\n",
    "** 2. A list in Python can contain nested lists. The degree of nesting need not be uniform. For instance [1,2,[3,4,[5,6]]] is a valid Python list. Write a Python function flatten(l) that takes a nonempty list of lists and returns a simple list of all the elements in the nested lists, flattened out. You can make use of the following function that returns True if its input is of type list.\n",
    "**<br>\n",
    "    def listtype(l):\n",
    "      return(type(l) == type([]))\n",
    "\n",
    "    Here are some examples to show how flatten(l) should work.\n",
    "\n",
    "    >>> flatten([1,2,[3],[4,[5,6]]])\n",
    "    [1, 2, 3, 4, 5, 6]\n",
    "\n",
    "    >>> flatten([1,2,3,(4,5,6)])\n",
    "    [1, 2, 3, (4, 5, 6)]\n",
    "\n"
   ]
  },
  {
   "cell_type": "code",
   "execution_count": 76,
   "metadata": {},
   "outputs": [],
   "source": [
    "def rainaverage(l):\n",
    "    d={}\n",
    "    ld=[]\n",
    "    for i in l:\n",
    "        if i[0] in d.keys():\n",
    "            d[i[0]]+=[i[1]]\n",
    "        else:\n",
    "            d[i[0]]=[i[1]]\n",
    "    #print(type(d))\n",
    "    for j,k in d.items():\n",
    "        avg=0.0\n",
    "        for i in k:\n",
    "            avg+=i\n",
    "        avg/=len(k)\n",
    "        ld.append((j,avg))\n",
    "    return sorted(ld)"
   ]
  },
  {
   "cell_type": "code",
   "execution_count": 77,
   "metadata": {},
   "outputs": [
    {
     "data": {
      "text/plain": [
       "[('Bangalore', 201.0), ('Bombay', 885.5), ('Madras', 115.5)]"
      ]
     },
     "execution_count": 77,
     "metadata": {},
     "output_type": "execute_result"
    }
   ],
   "source": [
    "rainaverage([('Bombay',848),('Madras',103),('Bombay',923),('Bangalore',201),('Madras',128)])"
   ]
  },
  {
   "cell_type": "code",
   "execution_count": 114,
   "metadata": {},
   "outputs": [],
   "source": [
    "def flatten(l):\n",
    "    if(l==[]):\n",
    "        return l\n",
    "    if (type(l[0])==type([])):\n",
    "        return (flatten(l[0])+flatten(l[1:]))\n",
    "    return(l[:1]+flatten(l[1:]))"
   ]
  },
  {
   "cell_type": "code",
   "execution_count": 115,
   "metadata": {},
   "outputs": [
    {
     "data": {
      "text/plain": [
       "[1, 2, 3, 4, 5, 6]"
      ]
     },
     "execution_count": 115,
     "metadata": {},
     "output_type": "execute_result"
    }
   ],
   "source": [
    "flatten([1,2,[3],[4,[5,6]]])"
   ]
  }
 ],
 "metadata": {
  "kernelspec": {
   "display_name": "Python 3",
   "language": "python",
   "name": "python3"
  },
  "language_info": {
   "codemirror_mode": {
    "name": "ipython",
    "version": 3
   },
   "file_extension": ".py",
   "mimetype": "text/x-python",
   "name": "python",
   "nbconvert_exporter": "python",
   "pygments_lexer": "ipython3",
   "version": "3.6.4"
  }
 },
 "nbformat": 4,
 "nbformat_minor": 2
}
